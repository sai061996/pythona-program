{
 "cells": [
  {
   "cell_type": "markdown",
   "id": "c776ce88",
   "metadata": {},
   "source": [
    "# EXCUTION CONTROOL STRUCTURE"
   ]
  },
  {
   "cell_type": "markdown",
   "id": "6733f660",
   "metadata": {},
   "source": [
    "1.Implement function myBMI() that takes as input a person’s height (in inches) and weight\n",
    "(in pounds) and computes the person’s Body Mass Index (BMI). The BMI formula is:\n",
    "bmi =\n",
    "weight ∗ 703\n",
    "height2\n",
    "Your functions should print the string 'Underweight' if bmi<18.5, 'Normal' if 18.5<=\n",
    "bmi < 25, and Overweight if bmi >= 25."
   ]
  },
  {
   "cell_type": "markdown",
   "id": "62c23418",
   "metadata": {},
   "source": [
    "After computing the BMI, we use a multiway if statement to decide what to print"
   ]
  },
  {
   "cell_type": "code",
   "execution_count": 60,
   "id": "23cde038",
   "metadata": {},
   "outputs": [],
   "source": [
    "def myBMI(weight, height):\n",
    "    'prints BMI report'\n",
    "    bmi = weight * 703 / height**2\n",
    "    if bmi < 18.5:\n",
    "        print('Underweight')\n",
    "    elif bmi < 25:\n",
    "        print('Normal')\n",
    "    else: # bmi >= 25\n",
    "        print('Overweight')"
   ]
  },
  {
   "cell_type": "code",
   "execution_count": 67,
   "id": "00458164",
   "metadata": {},
   "outputs": [
    {
     "name": "stdout",
     "output_type": "stream",
     "text": [
      "Normal\n"
     ]
    }
   ],
   "source": [
    "myBMI(190, 75)"
   ]
  },
  {
   "cell_type": "code",
   "execution_count": 68,
   "id": "1b2b3650",
   "metadata": {},
   "outputs": [
    {
     "name": "stdout",
     "output_type": "stream",
     "text": [
      "Underweight\n"
     ]
    }
   ],
   "source": [
    "myBMI(140, 75)"
   ]
  },
  {
   "cell_type": "code",
   "execution_count": null,
   "id": "ff91f093",
   "metadata": {},
   "outputs": [],
   "source": []
  },
  {
   "cell_type": "markdown",
   "id": "dbadff7b",
   "metadata": {},
   "source": [
    "2.Write a function named powers() that takes a positive integer n as input and prints, on the\n",
    "screen, all the powers of 2 from 21 to 2n."
   ]
  },
  {
   "cell_type": "markdown",
   "id": "88fb7eaa",
   "metadata": {},
   "source": [
    "We need to print 21, 22, 23, . . . , 2n (i.e., 2i for all integers i from 1 to n). To iterate\n",
    "over the range from 1 up to (and including) n, we use function call range(1, n+1):"
   ]
  },
  {
   "cell_type": "code",
   "execution_count": 72,
   "id": "f1513483",
   "metadata": {},
   "outputs": [],
   "source": [
    "def powers(n):\n",
    "    'prints 2**i for i = 1, 2, ..., n'\n",
    "    for i in range(1, n+1):\n",
    "        print(2**i, end=' ')"
   ]
  },
  {
   "cell_type": "code",
   "execution_count": 73,
   "id": "2f284b32",
   "metadata": {},
   "outputs": [
    {
     "name": "stdout",
     "output_type": "stream",
     "text": [
      "2 4 8 16 32 64 "
     ]
    }
   ],
   "source": [
    "powers(6)"
   ]
  },
  {
   "cell_type": "code",
   "execution_count": null,
   "id": "e695eb98",
   "metadata": {},
   "outputs": [],
   "source": []
  },
  {
   "cell_type": "code",
   "execution_count": null,
   "id": "bf3592af",
   "metadata": {},
   "outputs": [],
   "source": [
    "3.Write function arithmetic() that takes a list of integers as input and returns True if\n",
    "they form an arithmetic sequence. (A sequence of integers is an arithmetic sequence if the\n",
    "difference between consecutive items of the list is always the same.)"
   ]
  },
  {
   "cell_type": "markdown",
   "id": "5e751bcc",
   "metadata": {},
   "source": [
    "We need to check that the difference between adjacent list values are all the same.\n",
    "One way to do this is to check that they are all equal to the difference between the first\n",
    "two list items, l[0] and l[1]. So, we need to check that l[2]-l[1], l[3]-l[2], . . . ,\n",
    "l[n-1]-l[n-2], where n is the size of list l, are all equal to diff = l[1] - l[0]. Or,\n",
    "to put it another way, we need to check that l[i+1] - l[i] = diff for i = 1, 2, . . . ,\n",
    "n 2, values obtained by iterating through range(1, len(l)-1):"
   ]
  },
  {
   "cell_type": "code",
   "execution_count": 5,
   "id": "da6d9cff",
   "metadata": {},
   "outputs": [],
   "source": [
    "l=[3,6,9,11,12,14,15]\n",
    "def arithmetic(lst):\n",
    "    '''returns True if list lst contains an arithmetic sequence,\n",
    "        False otherwise'''\n",
    "    if len(lst) < 2: # a sequence of length < 2 is arithmetic\n",
    "        return True\n",
    "    # checking that difference between successive items is equal\n",
    "    # to the difference between the first two numbers\n",
    "    diff = l[1] - l[0]\n",
    "    for i in range(1, len(l)-1):\n",
    "        if l[i+1] - l[i] != diff:\n",
    "            return False\n",
    "    return True"
   ]
  },
  {
   "cell_type": "code",
   "execution_count": 6,
   "id": "fa154850",
   "metadata": {},
   "outputs": [
    {
     "data": {
      "text/plain": [
       "False"
      ]
     },
     "execution_count": 6,
     "metadata": {},
     "output_type": "execute_result"
    }
   ],
   "source": [
    "arithmetic([3, 6, 9, 12, 15])"
   ]
  },
  {
   "cell_type": "code",
   "execution_count": 3,
   "id": "11264292",
   "metadata": {},
   "outputs": [
    {
     "data": {
      "text/plain": [
       "False"
      ]
     },
     "execution_count": 3,
     "metadata": {},
     "output_type": "execute_result"
    }
   ],
   "source": [
    "arithmetic([3, 6, 9, 11, 14])"
   ]
  },
  {
   "cell_type": "code",
   "execution_count": 4,
   "id": "9dbf4686",
   "metadata": {},
   "outputs": [
    {
     "data": {
      "text/plain": [
       "True"
      ]
     },
     "execution_count": 4,
     "metadata": {},
     "output_type": "execute_result"
    }
   ],
   "source": [
    "arithmetic([3])"
   ]
  },
  {
   "cell_type": "code",
   "execution_count": null,
   "id": "05c5f08c",
   "metadata": {},
   "outputs": [],
   "source": []
  },
  {
   "cell_type": "markdown",
   "id": "3cf6afa4",
   "metadata": {},
   "source": [
    "4.Implement function factorial() that takes as input a nonnegative integer and returns its\n",
    "factorial. The factorial of a nonnegative integer n, denoted n!, is defined in this way:\n",
    "n! =\n",
    "\u0002\n",
    "1 if n = 0\n",
    "n×(n 1)×(n 2)×...×2×1 ifn > 0\n",
    "So, 0! = 1, 3! = 6, and 5! = 120."
   ]
  },
  {
   "cell_type": "markdown",
   "id": "897dcac6",
   "metadata": {},
   "source": [
    "We need to multiply (accumulate) integers 1, 2, 3, . . . , n. The accumulator res is\n",
    "initialized to 1, the identity for multiplication. Then we iterate over sequence 2, 3, 4, . . . ,\n",
    "n and multiply res by each number in the sequence:"
   ]
  },
  {
   "cell_type": "code",
   "execution_count": 79,
   "id": "d0603ee2",
   "metadata": {},
   "outputs": [],
   "source": [
    "def factorial(n):\n",
    "    'returns n! for input integer n'\n",
    "    res = 1\n",
    "    for i in range(2,n+1):\n",
    "        res *= i\n",
    "    return res"
   ]
  },
  {
   "cell_type": "code",
   "execution_count": 80,
   "id": "4d003929",
   "metadata": {},
   "outputs": [
    {
     "data": {
      "text/plain": [
       "1"
      ]
     },
     "execution_count": 80,
     "metadata": {},
     "output_type": "execute_result"
    }
   ],
   "source": [
    "factorial(0)"
   ]
  },
  {
   "cell_type": "code",
   "execution_count": 81,
   "id": "41ba226c",
   "metadata": {},
   "outputs": [
    {
     "data": {
      "text/plain": [
       "6"
      ]
     },
     "execution_count": 81,
     "metadata": {},
     "output_type": "execute_result"
    }
   ],
   "source": [
    "factorial(3)"
   ]
  },
  {
   "cell_type": "code",
   "execution_count": 82,
   "id": "5ad4921e",
   "metadata": {},
   "outputs": [
    {
     "data": {
      "text/plain": [
       "120"
      ]
     },
     "execution_count": 82,
     "metadata": {},
     "output_type": "execute_result"
    }
   ],
   "source": [
    "factorial(5)"
   ]
  },
  {
   "cell_type": "code",
   "execution_count": null,
   "id": "19b4ce0f",
   "metadata": {},
   "outputs": [],
   "source": []
  },
  {
   "cell_type": "code",
   "execution_count": null,
   "id": "7f532d2d",
   "metadata": {},
   "outputs": [],
   "source": [
    "5. An acronym is a word formed by taking the first letters of the words in a phrase and then\n",
    "making a word from them. For example, RAM is an acronym for random access memory.\n",
    "Write a function acronym() that takes a phrase (i.e., a string) as input and then returns the\n",
    "acronym for that phrase. Note: The acronym should be all uppercase, even if the words in\n",
    "the phrase are not capitalized"
   ]
  },
  {
   "cell_type": "markdown",
   "id": "de8b4162",
   "metadata": {},
   "source": [
    "In this problem we would like to iterate over the words of the phrase and accumulate\n",
    "the first letter in every word. So we need to break the phrase into a list of words using the\n",
    "string split() method and then iterate over the words in this list. We will add the first\n",
    "letter of every word to the accumulator string res."
   ]
  },
  {
   "cell_type": "code",
   "execution_count": 83,
   "id": "3ca5be1b",
   "metadata": {},
   "outputs": [],
   "source": [
    "def acronym(phrase):\n",
    "    'returns the acronym of the input string phrase'\n",
    "    # splits phrase into a list of words\n",
    "    words = phrase.split()\n",
    "    # accumulate first character, as an uppercase, of every word\n",
    "    res = ''\n",
    "    for w in words:\n",
    "        res = res + w[0].upper()\n",
    "    return res"
   ]
  },
  {
   "cell_type": "code",
   "execution_count": 84,
   "id": "56564cef",
   "metadata": {},
   "outputs": [
    {
     "data": {
      "text/plain": [
       "'RAM'"
      ]
     },
     "execution_count": 84,
     "metadata": {},
     "output_type": "execute_result"
    }
   ],
   "source": [
    "acronym('Random access memory')"
   ]
  },
  {
   "cell_type": "code",
   "execution_count": 85,
   "id": "0e897f7d",
   "metadata": {},
   "outputs": [
    {
     "data": {
      "text/plain": [
       "'CPU'"
      ]
     },
     "execution_count": 85,
     "metadata": {},
     "output_type": "execute_result"
    }
   ],
   "source": [
    "acronym('central processing unit')"
   ]
  },
  {
   "cell_type": "code",
   "execution_count": null,
   "id": "1e7f01b1",
   "metadata": {},
   "outputs": [],
   "source": []
  },
  {
   "cell_type": "markdown",
   "id": "52de8fbf",
   "metadata": {},
   "source": [
    "6.Write function divisors() that takes a positive integer n as input and returns the list of\n",
    "all positive divisors of n."
   ]
  },
  {
   "cell_type": "markdown",
   "id": "cb962e97",
   "metadata": {},
   "source": [
    "Divisors of n include 1, n, and perhaps more numbers in between. To find them, we\n",
    "can iterate over all integers given by range(1, n+1) and check each integer whether it is\n",
    "a divisor of n."
   ]
  },
  {
   "cell_type": "code",
   "execution_count": 87,
   "id": "c8178409",
   "metadata": {},
   "outputs": [],
   "source": [
    "def divisors(n):\n",
    "    'returns the list of divisors of n'\n",
    "    res = []\n",
    "    for i in range(1, n+1):\n",
    "        if n % i == 0:\n",
    "            res.append(i)\n",
    "    return res"
   ]
  },
  {
   "cell_type": "code",
   "execution_count": 88,
   "id": "5a0c4dd2",
   "metadata": {},
   "outputs": [
    {
     "data": {
      "text/plain": [
       "[1]"
      ]
     },
     "execution_count": 88,
     "metadata": {},
     "output_type": "execute_result"
    }
   ],
   "source": [
    "divisors(1)"
   ]
  },
  {
   "cell_type": "code",
   "execution_count": 89,
   "id": "ac4be17a",
   "metadata": {},
   "outputs": [
    {
     "data": {
      "text/plain": [
       "[1, 2, 3, 6]"
      ]
     },
     "execution_count": 89,
     "metadata": {},
     "output_type": "execute_result"
    }
   ],
   "source": [
    "divisors(6)"
   ]
  },
  {
   "cell_type": "code",
   "execution_count": 90,
   "id": "209bad28",
   "metadata": {},
   "outputs": [
    {
     "data": {
      "text/plain": [
       "[1, 11]"
      ]
     },
     "execution_count": 90,
     "metadata": {},
     "output_type": "execute_result"
    }
   ],
   "source": [
    "divisors(11)"
   ]
  },
  {
   "cell_type": "code",
   "execution_count": null,
   "id": "0824468f",
   "metadata": {},
   "outputs": [],
   "source": []
  },
  {
   "cell_type": "markdown",
   "id": "6c258c21",
   "metadata": {},
   "source": [
    "7.Write a function xmult() that takes two lists of integers as input and returns a list containing\n",
    "all products of integers from the first list with the integers from the second list."
   ]
  },
  {
   "cell_type": "markdown",
   "id": "e60bfd76",
   "metadata": {},
   "source": [
    "We will use the nested loop pattern to multiply every integer in the first list with\n",
    "every integer in the second list. The outer for loop will iterate over the integers in the first\n",
    "list. Then, for every such integer i, the inner for loop will iterate over the integers of the\n",
    "second list, and each such integer is multiplied by i; the product is accumulated into a list\n",
    "accumulator"
   ]
  },
  {
   "cell_type": "code",
   "execution_count": 91,
   "id": "f0cd5f64",
   "metadata": {},
   "outputs": [],
   "source": [
    "def xmult(l1, l2):\n",
    "    '''returns the list of products of items in list l1\n",
    "        with items in list l2'''\n",
    "    l = []\n",
    "    for i in l1:\n",
    "        for j in l2:\n",
    "            l.append(i*j)\n",
    "    return l"
   ]
  },
  {
   "cell_type": "code",
   "execution_count": 92,
   "id": "772c4e99",
   "metadata": {},
   "outputs": [
    {
     "data": {
      "text/plain": [
       "[2, 10]"
      ]
     },
     "execution_count": 92,
     "metadata": {},
     "output_type": "execute_result"
    }
   ],
   "source": [
    "xmult([2], [1, 5])"
   ]
  },
  {
   "cell_type": "code",
   "execution_count": 93,
   "id": "89a8126e",
   "metadata": {},
   "outputs": [
    {
     "data": {
      "text/plain": [
       "[2, 10, 3, 15]"
      ]
     },
     "execution_count": 93,
     "metadata": {},
     "output_type": "execute_result"
    }
   ],
   "source": [
    "xmult([2, 3], [1, 5])"
   ]
  },
  {
   "cell_type": "code",
   "execution_count": 94,
   "id": "7f56c618",
   "metadata": {},
   "outputs": [
    {
     "data": {
      "text/plain": [
       "[6, 0, 8, 0, 2, 0]"
      ]
     },
     "execution_count": 94,
     "metadata": {},
     "output_type": "execute_result"
    }
   ],
   "source": [
    "xmult([3, 4, 1], [2, 0])"
   ]
  },
  {
   "cell_type": "code",
   "execution_count": null,
   "id": "18546043",
   "metadata": {},
   "outputs": [],
   "source": []
  },
  {
   "cell_type": "code",
   "execution_count": null,
   "id": "f807005b",
   "metadata": {},
   "outputs": [],
   "source": [
    "8.One way to sort a list of n different numbers in increasing order is to execute n 1 passes\n",
    "over the numbers in the list. Each pass compares all adjacent numbers in the list and swaps\n",
    "them if they are out of order. At the end of the first pass, the largest item will be the last\n",
    "in the list (at index n 1). Therefore, the second pass can stop before reaching the last\n",
    "element, as it is already in the right position; the second pass will place the second largest\n",
    "item in the next to last position. In general, pass i will compare pairs at indexes 0 and 1, 1\n",
    "and 2, 2 and 3, . . . , and i 1 and i; at the end of the pass, the ith largest item will be at\n",
    "indexn i. Therefore, after pass n 1, the list will be in increasing order.\n",
    "Write a function bubbleSort() that takes a list of numbers as input and sorts the list\n",
    "using this approach"
   ]
  },
  {
   "cell_type": "markdown",
   "id": "4613a0d1",
   "metadata": {},
   "source": [
    "As discussed in the problem statement, in the first pass you need to successively compare\n",
    "items at indexes 0 and 1, 1 and 2, 2 and 3, . . . , up to len(lst)-2 and len(lst)-1.\n",
    "We can do this by generating the sequence of integers from 0 up to but not including\n",
    "len(lst)-1.\n",
    "In the second pass, we can stop the pairwise comparisons with the pair of items at\n",
    "indexes len(lst)-3 and len(lst)-2, so the indexes we need in the second pass go from\n",
    "0 up to but not including len(lst)-2. This suggests that we should use the outer loop\n",
    "to generate the upper bounds len(lst)-1 for pass 1, len(lst)-2 for pass 2, down to 1\n",
    "(when the final comparison between the first two list items is made).The inner loop implements a pass that compares adjacent list items up to items at indexes\n",
    "i-1 and i and swaps improperly ordered items:"
   ]
  },
  {
   "cell_type": "code",
   "execution_count": 97,
   "id": "b4f1946f",
   "metadata": {},
   "outputs": [],
   "source": [
    "def bubblesort(lst):\n",
    "    'sorts list lst in nondecreasing order'\n",
    "    for i in range(len(lst)-2, 0, -1):\n",
    "        # perform pass that ends at\n",
    "        # i = len(lst)-2, len(lst)-1, ..., 0\n",
    "        for j in range(i):\n",
    "            # compare items at index j and j+1\n",
    "            # for every j = 0, 1, ..., i-1\n",
    "            if lst[j] > lst[j+1]:\n",
    "                # swap numbers at index j and j+1\n",
    "                lst[j], lst[j+1] = lst[j+1], lst[j]"
   ]
  },
  {
   "cell_type": "code",
   "execution_count": 98,
   "id": "23f7d6df",
   "metadata": {},
   "outputs": [],
   "source": [
    "lst = [3, 1, 7, 4, 9, 2, 5]"
   ]
  },
  {
   "cell_type": "code",
   "execution_count": 99,
   "id": "2a129d1f",
   "metadata": {},
   "outputs": [],
   "source": [
    "bubblesort(lst)"
   ]
  },
  {
   "cell_type": "code",
   "execution_count": 100,
   "id": "c9d2b779",
   "metadata": {},
   "outputs": [
    {
     "data": {
      "text/plain": [
       "[1, 2, 3, 4, 7, 9, 5]"
      ]
     },
     "execution_count": 100,
     "metadata": {},
     "output_type": "execute_result"
    }
   ],
   "source": [
    "lst"
   ]
  },
  {
   "cell_type": "code",
   "execution_count": null,
   "id": "15e8ea2b",
   "metadata": {},
   "outputs": [],
   "source": []
  },
  {
   "cell_type": "code",
   "execution_count": null,
   "id": "f98d13ee",
   "metadata": {},
   "outputs": [],
   "source": [
    "9.Write a function add2D() that takes two two-dimensional lists of same size (i.e., same\n",
    "number of rows and columns) as input arguments and increments every entry in the first\n",
    "list with the value of the corresponding entry in the second list."
   ]
  },
  {
   "cell_type": "markdown",
   "id": "5962b97a",
   "metadata": {},
   "source": [
    " We use the nested loop pattern to generate all pairs of column and row indexes and add\n",
    "up the corresponding entries:"
   ]
  },
  {
   "cell_type": "code",
   "execution_count": 101,
   "id": "69b30c80",
   "metadata": {},
   "outputs": [],
   "source": [
    "def add2D(t1, t2):\n",
    "    '''t1 and t2 are 2D lists with the same number of rows and\n",
    "        same number of equal sized columns\n",
    "        add2D increments every item t1[i][j] by t2[i][j]'''\n",
    "    nrows = len(t1) # number of rows\n",
    "    ncols = len(t1[0]) # number of columns\n",
    "    for i in range(nrows): # for every row index i\n",
    "        for j in range(ncols): # for every column index j\n",
    "            t1[i][j] += t2[i][j]"
   ]
  },
  {
   "cell_type": "code",
   "execution_count": 102,
   "id": "da3c7cb5",
   "metadata": {},
   "outputs": [],
   "source": [
    "t = [[4, 7, 2, 5], [5, 1, 9, 2], [8, 3, 6, 6]]"
   ]
  },
  {
   "cell_type": "code",
   "execution_count": 103,
   "id": "ce82aeb0",
   "metadata": {},
   "outputs": [],
   "source": [
    "s = [[0, 1, 2, 0], [0, 1, 1, 1], [0, 1, 0, 0]]"
   ]
  },
  {
   "cell_type": "code",
   "execution_count": 104,
   "id": "4f31db95",
   "metadata": {},
   "outputs": [],
   "source": [
    "add2D(t,s)"
   ]
  },
  {
   "cell_type": "code",
   "execution_count": 106,
   "id": "047a516c",
   "metadata": {},
   "outputs": [
    {
     "name": "stdout",
     "output_type": "stream",
     "text": [
      "[4, 8, 4, 5]\n",
      "[5, 2, 10, 3]\n",
      "[8, 4, 6, 6]\n"
     ]
    }
   ],
   "source": [
    "for row in t:\n",
    "    print(row)"
   ]
  },
  {
   "cell_type": "code",
   "execution_count": null,
   "id": "5a728dcd",
   "metadata": {},
   "outputs": [],
   "source": []
  },
  {
   "cell_type": "code",
   "execution_count": null,
   "id": "a117f0ce",
   "metadata": {},
   "outputs": [],
   "source": [
    "10. Write a function interest() that takes one input, a floating-point interest rate (e.g., 0.06\n",
    "which corresponds to a 6% interest rate). Your function should compute and return how\n",
    "long (in years) it will take for an investment to double in value. Note: The number of years\n",
    "it takes for an investment to double does not depend on the value of the initial investment."
   ]
  },
  {
   "cell_type": "markdown",
   "id": "b3988c65",
   "metadata": {},
   "source": [
    " First note that the number of years required for an investment to double in value does\n",
    "not depend on the amount invested. So we can assume the original investment is $100. We\n",
    "use a while loop to add the yearly interest to the investment x. The while loop condition\n",
    "will check whether x < 200. What the problem asks is how many times we have executed\n",
    "the while loop. To count it, we use the counter loop pattern:"
   ]
  },
  {
   "cell_type": "code",
   "execution_count": 107,
   "id": "3b8f25ad",
   "metadata": {},
   "outputs": [],
   "source": [
    "def interest(rate):\n",
    "    '''returns the number of years for investment\n",
    "        to double for the given rate'''\n",
    "    amount = 100 # initial account balance\n",
    "    count = 0\n",
    "    while amount < 200:\n",
    "        # while investment not doubled in value\n",
    "        count += 1 # add one more year\n",
    "        amount += amount*rate # add interest\n",
    "    return count"
   ]
  },
  {
   "cell_type": "code",
   "execution_count": 108,
   "id": "d916f37e",
   "metadata": {},
   "outputs": [
    {
     "data": {
      "text/plain": [
       "11"
      ]
     },
     "execution_count": 108,
     "metadata": {},
     "output_type": "execute_result"
    }
   ],
   "source": [
    "interest(0.07)"
   ]
  },
  {
   "cell_type": "code",
   "execution_count": null,
   "id": "57d40bfc",
   "metadata": {},
   "outputs": [],
   "source": []
  },
  {
   "cell_type": "markdown",
   "id": "71307200",
   "metadata": {},
   "source": [
    "11. We start by assigning the first approximation (1) to prev and the second (2) to\n",
    "current. The while loop condition is then current - prev > error. If the condition\n",
    "is true, then we need to generate new value for prev and current. The value of current\n",
    "becomes previous and the new current value is then previous + 1/factorial(???).\n",
    "What should ??? be? In the first iteration, it should be 2, because the third approximationis the value of the second + 1\n",
    "2! . In the next iteration, it should be 3, then 4, and so on. We\n",
    "obtain this solution:"
   ]
  },
  {
   "cell_type": "code",
   "execution_count": 110,
   "id": "676491ab",
   "metadata": {},
   "outputs": [],
   "source": [
    "def approxE(error):\n",
    "    'returns approximation of e within error'\n",
    "    prev = 1 # approximation 0\n",
    "    current = 2 # approximation 1\n",
    "    i = 2 # index of next approximation\n",
    "    while current-prev > error:\n",
    "        # while difference between current and previous\n",
    "        # approximation is too large\n",
    "                                    # current approximation\n",
    "        prev = current              # becomes previous\n",
    "                                    # compute new approximation\n",
    "        current = prev + 1/factorial(i) # based on index i\n",
    "        i += 1 # index of next approximation\n",
    "    return current"
   ]
  },
  {
   "cell_type": "code",
   "execution_count": 111,
   "id": "1cc2b901",
   "metadata": {},
   "outputs": [
    {
     "data": {
      "text/plain": [
       "2.7166666666666663"
      ]
     },
     "execution_count": 111,
     "metadata": {},
     "output_type": "execute_result"
    }
   ],
   "source": [
    "approxE(0.01)"
   ]
  },
  {
   "cell_type": "code",
   "execution_count": 112,
   "id": "0bc2f7b8",
   "metadata": {},
   "outputs": [
    {
     "data": {
      "text/plain": [
       "2.7182818284467594"
      ]
     },
     "execution_count": 112,
     "metadata": {},
     "output_type": "execute_result"
    }
   ],
   "source": [
    "approxE(0.000000001)"
   ]
  },
  {
   "cell_type": "markdown",
   "id": "43a0fcb3",
   "metadata": {},
   "source": [
    "# EXERCISE"
   ]
  },
  {
   "cell_type": "markdown",
   "id": "bb74b6ae",
   "metadata": {},
   "source": [
    "12. Implement function test() that takes as input one integer and prints 'Negative',\n",
    "'Zero', or 'Positive' depending on its value."
   ]
  },
  {
   "cell_type": "code",
   "execution_count": 1,
   "id": "f1d4e030",
   "metadata": {},
   "outputs": [
    {
     "name": "stdout",
     "output_type": "stream",
     "text": [
      "Enter a number: 5\n",
      "Positive number\n"
     ]
    }
   ],
   "source": [
    "num = float(input(\"Enter a number: \"))\n",
    "if num > 0:\n",
    "   print(\"Positive number\")\n",
    "elif num == 0:\n",
    "   print(\"Zero\")\n",
    "else:\n",
    "   print(\"Negative number\")\n"
   ]
  },
  {
   "cell_type": "markdown",
   "id": "b5bef06e",
   "metadata": {},
   "source": [
    "13. Read every exercise 5.14 to 5.22 and decide what loop pattern should be used in each."
   ]
  },
  {
   "cell_type": "markdown",
   "id": "739b556d",
   "metadata": {},
   "source": [
    "14.Write function mult3() that takes as input a list of integers and prints only the\n",
    "multiples of 3, one per line"
   ]
  },
  {
   "cell_type": "code",
   "execution_count": 12,
   "id": "cc8abbf7",
   "metadata": {},
   "outputs": [
    {
     "name": "stdout",
     "output_type": "stream",
     "text": [
      "3\n",
      "6\n",
      "3\n",
      "9\n",
      "9\n"
     ]
    }
   ],
   "source": [
    "mult3([3, 1, 6, 2, 3, 9, 7, 9, 5, 4, 5])\n",
    "def mult3(lst):\n",
    "    for num in lst:\n",
    "        if num % 3 == 0:\n",
    "            print(num, end='\\n')"
   ]
  },
  {
   "cell_type": "code",
   "execution_count": 13,
   "id": "33b97c16",
   "metadata": {},
   "outputs": [
    {
     "name": "stdout",
     "output_type": "stream",
     "text": [
      "3\n",
      "6\n",
      "3\n",
      "9\n",
      "9\n"
     ]
    }
   ],
   "source": [
    "mult3([3, 1, 6, 2, 3, 9, 7, 9, 5, 4, 5])"
   ]
  },
  {
   "cell_type": "markdown",
   "id": "ad60b353",
   "metadata": {},
   "source": [
    "15.Implement the function vowels() that takes as input a string and prints the indexes\n",
    "of all vowels in the string. Hint: A vowel can be defined as any character in string\n",
    "'aeiouAEIOU"
   ]
  },
  {
   "cell_type": "code",
   "execution_count": 18,
   "id": "11c887a0",
   "metadata": {},
   "outputs": [
    {
     "name": "stdout",
     "output_type": "stream",
     "text": [
      "The vowel indices are : [1, 4, 7]\n"
     ]
    }
   ],
   "source": [
    "test_str = \"hello world\"\n",
    "\n",
    "vowels = \"aeiou\"\n",
    "\n",
    "result = list(filter(lambda x: test_str[x] in vowels, range(len(test_str))))\n",
    "\n",
    "print(\"The vowel indices are : \" + str(result))\n",
    "\n"
   ]
  },
  {
   "cell_type": "markdown",
   "id": "eee25350",
   "metadata": {},
   "source": [
    "16.Implement function indexes() that takes as input a word (as a string) and a onecharacter\n",
    "letter (as a string) and returns a list of indexes at which the letter occurs in the\n",
    "word."
   ]
  },
  {
   "cell_type": "code",
   "execution_count": 35,
   "id": "61a8cc53",
   "metadata": {},
   "outputs": [
    {
     "name": "stdout",
     "output_type": "stream",
     "text": [
      "The vowel indices are : [1, 2, 3, 4, 5, 6, 7, 10]\n"
     ]
    }
   ],
   "source": [
    "import numpy as np\n",
    "\n",
    "test_str = \"mississippi\"\n",
    "\n",
    "vowel_indices = np.where(np.isin(np.array(list(test_str)), np.array(list(\"s,i,a\" ))))\n",
    "vowel_indices = vowel_indices[0].tolist() \n",
    "\n",
    "\n",
    "print(\"The vowel indices are : \" + str(vowel_indices))"
   ]
  },
  {
   "cell_type": "markdown",
   "id": "2c9fa88f",
   "metadata": {},
   "source": [
    "17.Write function doubles() that takes as input a list of integers and outputs the integers\n",
    "in the list that are exactly twice the previous integer in the list, one per line."
   ]
  },
  {
   "cell_type": "code",
   "execution_count": 39,
   "id": "70612558",
   "metadata": {},
   "outputs": [
    {
     "name": "stdout",
     "output_type": "stream",
     "text": [
      "[0, 3, 6, 5, 2]\n"
     ]
    }
   ],
   "source": [
    "lis = [3,0,0,1,2,3,3,3,3,6,6,5,5,4,8,9,2]\n",
    "\n",
    "uniqueList = []\n",
    "duplicateList = []\n",
    "\n",
    "for i in lis:\n",
    "\tif i not in uniqueList:\n",
    "\t\tuniqueList.append(i)\n",
    "\telif i not in duplicateList:\n",
    "\t\tduplicateList.append(i)\n",
    "\n",
    "print(duplicateList)"
   ]
  },
  {
   "cell_type": "markdown",
   "id": "3d415c9c",
   "metadata": {},
   "source": [
    "18. Implement function four_letter() that takes as input a list of words (i.e., strings)\n",
    "and returns the sublist of all four letter words in the list."
   ]
  },
  {
   "cell_type": "code",
   "execution_count": 54,
   "id": "685459f7",
   "metadata": {},
   "outputs": [
    {
     "name": "stdout",
     "output_type": "stream",
     "text": [
      "[]\n"
     ]
    }
   ],
   "source": [
    "original_list=['dog', 'letter', 'stop', 'door', 'bus', 'dust']\n",
    "def sublists(lst):\n",
    "\n",
    "\treturn sublists_list\n",
    "\n",
    "sublists_list = sublists(original_list)\n",
    "print(sublists_list)"
   ]
  },
  {
   "cell_type": "code",
   "execution_count": 52,
   "id": "41daa058",
   "metadata": {
    "scrolled": true
   },
   "outputs": [
    {
     "ename": "NameError",
     "evalue": "name 'four_letter' is not defined",
     "output_type": "error",
     "traceback": [
      "\u001b[1;31m---------------------------------------------------------------------------\u001b[0m",
      "\u001b[1;31mNameError\u001b[0m                                 Traceback (most recent call last)",
      "\u001b[1;32m~\\AppData\\Local\\Temp\\ipykernel_3464\\2746885311.py\u001b[0m in \u001b[0;36m<module>\u001b[1;34m\u001b[0m\n\u001b[1;32m----> 1\u001b[1;33m \u001b[0mfour_letter\u001b[0m\u001b[1;33m(\u001b[0m\u001b[1;33m[\u001b[0m\u001b[1;34m'dog'\u001b[0m\u001b[1;33m,\u001b[0m \u001b[1;34m'letter'\u001b[0m\u001b[1;33m,\u001b[0m \u001b[1;34m'stop'\u001b[0m\u001b[1;33m,\u001b[0m \u001b[1;34m'door'\u001b[0m\u001b[1;33m,\u001b[0m \u001b[1;34m'bus'\u001b[0m\u001b[1;33m,\u001b[0m \u001b[1;34m'dust'\u001b[0m\u001b[1;33m]\u001b[0m\u001b[1;33m)\u001b[0m\u001b[1;33m\u001b[0m\u001b[1;33m\u001b[0m\u001b[0m\n\u001b[0m",
      "\u001b[1;31mNameError\u001b[0m: name 'four_letter' is not defined"
     ]
    }
   ],
   "source": []
  }
 ],
 "metadata": {
  "kernelspec": {
   "display_name": "Python 3 (ipykernel)",
   "language": "python",
   "name": "python3"
  },
  "language_info": {
   "codemirror_mode": {
    "name": "ipython",
    "version": 3
   },
   "file_extension": ".py",
   "mimetype": "text/x-python",
   "name": "python",
   "nbconvert_exporter": "python",
   "pygments_lexer": "ipython3",
   "version": "3.9.13"
  }
 },
 "nbformat": 4,
 "nbformat_minor": 5
}
